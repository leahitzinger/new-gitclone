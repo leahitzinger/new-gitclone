{
 "cells": [
  {
   "cell_type": "code",
   "execution_count": 2,
   "metadata": {},
   "outputs": [],
   "source": [
    "import pandas as pd\n",
    "import datetime as dt\n",
    "import seaborn as sns\n",
    "import matplotlib.pyplot as plt\n",
    "from bokeh.plotting import figure, show"
   ]
  },
  {
   "cell_type": "code",
   "execution_count": 3,
   "metadata": {},
   "outputs": [],
   "source": [
    "hotel=pd.read_csv('hotel_bookings.csv', na_values=['none','undefined','','-'])"
   ]
  },
  {
   "cell_type": "code",
   "execution_count": 4,
   "metadata": {},
   "outputs": [
    {
     "data": {
      "text/plain": [
       "Index(['hotel', 'is_canceled', 'lead_time', 'arrival_date_year',\n",
       "       'arrival_date_month', 'arrival_date_week_number',\n",
       "       'arrival_date_day_of_month', 'stays_in_weekend_nights',\n",
       "       'stays_in_week_nights', 'adults', 'children', 'babies', 'meal',\n",
       "       'country', 'market_segment', 'distribution_channel',\n",
       "       'is_repeated_guest', 'previous_cancellations',\n",
       "       'previous_bookings_not_canceled', 'reserved_room_type',\n",
       "       'assigned_room_type', 'booking_changes', 'deposit_type', 'agent',\n",
       "       'company', 'days_in_waiting_list', 'customer_type', 'adr',\n",
       "       'required_car_parking_spaces', 'total_of_special_requests',\n",
       "       'reservation_status', 'reservation_status_date'],\n",
       "      dtype='object')"
      ]
     },
     "execution_count": 4,
     "metadata": {},
     "output_type": "execute_result"
    }
   ],
   "source": [
    "hotel.columns"
   ]
  },
  {
   "cell_type": "code",
   "execution_count": 5,
   "metadata": {},
   "outputs": [
    {
     "name": "stdout",
     "output_type": "stream",
     "text": [
      "<class 'pandas.core.frame.DataFrame'>\n",
      "RangeIndex: 119390 entries, 0 to 119389\n",
      "Data columns (total 32 columns):\n",
      " #   Column                          Non-Null Count   Dtype  \n",
      "---  ------                          --------------   -----  \n",
      " 0   hotel                           119390 non-null  object \n",
      " 1   is_canceled                     119390 non-null  int64  \n",
      " 2   lead_time                       119390 non-null  int64  \n",
      " 3   arrival_date_year               119390 non-null  int64  \n",
      " 4   arrival_date_month              119390 non-null  object \n",
      " 5   arrival_date_week_number        119390 non-null  int64  \n",
      " 6   arrival_date_day_of_month       119390 non-null  int64  \n",
      " 7   stays_in_weekend_nights         119390 non-null  int64  \n",
      " 8   stays_in_week_nights            119390 non-null  int64  \n",
      " 9   adults                          119390 non-null  int64  \n",
      " 10  children                        119386 non-null  float64\n",
      " 11  babies                          119390 non-null  int64  \n",
      " 12  meal                            119390 non-null  object \n",
      " 13  country                         118902 non-null  object \n",
      " 14  market_segment                  119390 non-null  object \n",
      " 15  distribution_channel            119390 non-null  object \n",
      " 16  is_repeated_guest               119390 non-null  int64  \n",
      " 17  previous_cancellations          119390 non-null  int64  \n",
      " 18  previous_bookings_not_canceled  119390 non-null  int64  \n",
      " 19  reserved_room_type              119390 non-null  object \n",
      " 20  assigned_room_type              119390 non-null  object \n",
      " 21  booking_changes                 119390 non-null  int64  \n",
      " 22  deposit_type                    119390 non-null  object \n",
      " 23  agent                           103050 non-null  float64\n",
      " 24  company                         6797 non-null    float64\n",
      " 25  days_in_waiting_list            119390 non-null  int64  \n",
      " 26  customer_type                   119390 non-null  object \n",
      " 27  adr                             119390 non-null  float64\n",
      " 28  required_car_parking_spaces     119390 non-null  int64  \n",
      " 29  total_of_special_requests       119390 non-null  int64  \n",
      " 30  reservation_status              119390 non-null  object \n",
      " 31  reservation_status_date         119390 non-null  object \n",
      "dtypes: float64(4), int64(16), object(12)\n",
      "memory usage: 29.1+ MB\n"
     ]
    }
   ],
   "source": [
    "hotel.info()"
   ]
  },
  {
   "cell_type": "code",
   "execution_count": 6,
   "metadata": {},
   "outputs": [
    {
     "data": {
      "text/plain": [
       "0         2015-07-01\n",
       "1         2015-07-01\n",
       "2         2015-07-02\n",
       "3         2015-07-02\n",
       "4         2015-07-03\n",
       "             ...    \n",
       "119385    2017-09-06\n",
       "119386    2017-09-07\n",
       "119387    2017-09-07\n",
       "119388    2017-09-07\n",
       "119389    2017-09-07\n",
       "Name: reservation_status_date, Length: 119390, dtype: object"
      ]
     },
     "execution_count": 6,
     "metadata": {},
     "output_type": "execute_result"
    }
   ],
   "source": [
    "hotel.reservation_status_date"
   ]
  },
  {
   "cell_type": "code",
   "execution_count": 7,
   "metadata": {},
   "outputs": [],
   "source": [
    "hotel['reservation_status_date']= pd.to_datetime(hotel['reservation_status_date'])"
   ]
  },
  {
   "cell_type": "code",
   "execution_count": 8,
   "metadata": {},
   "outputs": [
    {
     "data": {
      "text/plain": [
       "0    75166\n",
       "1    44224\n",
       "Name: is_canceled, dtype: int64"
      ]
     },
     "execution_count": 8,
     "metadata": {},
     "output_type": "execute_result"
    }
   ],
   "source": [
    "hotel.is_canceled.value_counts()"
   ]
  },
  {
   "cell_type": "code",
   "execution_count": 9,
   "metadata": {},
   "outputs": [],
   "source": [
    "hotel['is_canceled'] = hotel['is_canceled'].astype(bool)"
   ]
  },
  {
   "cell_type": "code",
   "execution_count": 10,
   "metadata": {},
   "outputs": [],
   "source": [
    "hotel['arrival_date_month']=hotel['arrival_date_month'].astype('str')\n",
    "hotel['arrival_date_year']=hotel['arrival_date_year'].astype('str')\n",
    "hotel['arrival_date_day_of_month']=hotel['arrival_date_day_of_month'].astype('str')"
   ]
  },
  {
   "cell_type": "code",
   "execution_count": 11,
   "metadata": {},
   "outputs": [],
   "source": [
    "hotel['arrival_date']=[day+' '+month+' '+year for day,month,year in zip(hotel['arrival_date_day_of_month'],hotel['arrival_date_month'],hotel['arrival_date_year'])]"
   ]
  },
  {
   "cell_type": "code",
   "execution_count": 12,
   "metadata": {},
   "outputs": [
    {
     "data": {
      "text/plain": [
       "0            1 July 2015\n",
       "1            1 July 2015\n",
       "2            1 July 2015\n",
       "3            1 July 2015\n",
       "4            1 July 2015\n",
       "               ...      \n",
       "119385    30 August 2017\n",
       "119386    31 August 2017\n",
       "119387    31 August 2017\n",
       "119388    31 August 2017\n",
       "119389    29 August 2017\n",
       "Name: arrival_date, Length: 119390, dtype: object"
      ]
     },
     "execution_count": 12,
     "metadata": {},
     "output_type": "execute_result"
    }
   ],
   "source": [
    "hotel['arrival_date']"
   ]
  },
  {
   "cell_type": "code",
   "execution_count": 13,
   "metadata": {},
   "outputs": [],
   "source": [
    "hotel=hotel.drop(columns=['arrival_date_day_of_month','arrival_date_month'])"
   ]
  },
  {
   "cell_type": "code",
   "execution_count": 14,
   "metadata": {},
   "outputs": [],
   "source": [
    "\n",
    "yes_no= lambda row : 'yes' if row['agent'].isnull() and row['company'].isnull() else 'no'"
   ]
  },
  {
   "cell_type": "code",
   "execution_count": 15,
   "metadata": {},
   "outputs": [],
   "source": [
    "import math\n",
    "hotel['direct_booking']=hotel.apply(lambda row : 'yes' if math.isnan(row['agent']) and math.isnan(row['company']) else 'no',axis=1)"
   ]
  },
  {
   "cell_type": "code",
   "execution_count": 16,
   "metadata": {},
   "outputs": [
    {
     "data": {
      "text/plain": [
       "0         yes\n",
       "1         yes\n",
       "2         yes\n",
       "3          no\n",
       "4          no\n",
       "         ... \n",
       "119385     no\n",
       "119386     no\n",
       "119387     no\n",
       "119388     no\n",
       "119389     no\n",
       "Name: direct_booking, Length: 119390, dtype: object"
      ]
     },
     "execution_count": 16,
     "metadata": {},
     "output_type": "execute_result"
    }
   ],
   "source": [
    "hotel['direct_booking']"
   ]
  },
  {
   "cell_type": "code",
   "execution_count": 17,
   "metadata": {},
   "outputs": [
    {
     "data": {
      "text/plain": [
       "hotel                             False\n",
       "is_canceled                       False\n",
       "lead_time                         False\n",
       "arrival_date_year                 False\n",
       "arrival_date_week_number          False\n",
       "stays_in_weekend_nights           False\n",
       "stays_in_week_nights              False\n",
       "adults                            False\n",
       "children                           True\n",
       "babies                            False\n",
       "meal                              False\n",
       "country                            True\n",
       "market_segment                    False\n",
       "distribution_channel              False\n",
       "is_repeated_guest                 False\n",
       "previous_cancellations            False\n",
       "previous_bookings_not_canceled    False\n",
       "reserved_room_type                False\n",
       "assigned_room_type                False\n",
       "booking_changes                   False\n",
       "deposit_type                      False\n",
       "agent                              True\n",
       "company                            True\n",
       "days_in_waiting_list              False\n",
       "customer_type                     False\n",
       "adr                               False\n",
       "required_car_parking_spaces       False\n",
       "total_of_special_requests         False\n",
       "reservation_status                False\n",
       "reservation_status_date           False\n",
       "arrival_date                      False\n",
       "direct_booking                    False\n",
       "dtype: bool"
      ]
     },
     "execution_count": 17,
     "metadata": {},
     "output_type": "execute_result"
    }
   ],
   "source": [
    "hotel.isna().any()"
   ]
  },
  {
   "cell_type": "code",
   "execution_count": 18,
   "metadata": {},
   "outputs": [
    {
     "data": {
      "text/plain": [
       "0.0     110796\n",
       "1.0       4861\n",
       "2.0       3652\n",
       "3.0         76\n",
       "NaN          4\n",
       "10.0         1\n",
       "Name: children, dtype: int64"
      ]
     },
     "execution_count": 18,
     "metadata": {},
     "output_type": "execute_result"
    }
   ],
   "source": [
    "hotel['children'].value_counts(dropna=False)"
   ]
  },
  {
   "cell_type": "code",
   "execution_count": 19,
   "metadata": {},
   "outputs": [],
   "source": [
    "hotel['children']=hotel['children'].fillna(0)"
   ]
  },
  {
   "cell_type": "code",
   "execution_count": 20,
   "metadata": {},
   "outputs": [
    {
     "data": {
      "text/plain": [
       "PRT    48590\n",
       "GBR    12129\n",
       "FRA    10415\n",
       "ESP     8568\n",
       "DEU     7287\n",
       "       ...  \n",
       "DJI        1\n",
       "BWA        1\n",
       "HND        1\n",
       "VGB        1\n",
       "NAM        1\n",
       "Name: country, Length: 178, dtype: int64"
      ]
     },
     "execution_count": 20,
     "metadata": {},
     "output_type": "execute_result"
    }
   ],
   "source": [
    "hotel['country'].value_counts(dropna=False)"
   ]
  },
  {
   "cell_type": "code",
   "execution_count": 21,
   "metadata": {},
   "outputs": [],
   "source": [
    "hotel['country']=hotel['country'].fillna('PRT')"
   ]
  },
  {
   "cell_type": "code",
   "execution_count": 22,
   "metadata": {},
   "outputs": [],
   "source": [
    "hotel['agent']=hotel['agent'].fillna(0)"
   ]
  },
  {
   "cell_type": "code",
   "execution_count": 23,
   "metadata": {},
   "outputs": [],
   "source": [
    "hotel['company']=hotel['company'].fillna(0)"
   ]
  },
  {
   "cell_type": "code",
   "execution_count": 24,
   "metadata": {},
   "outputs": [
    {
     "name": "stdout",
     "output_type": "stream",
     "text": [
      "<class 'pandas.core.frame.DataFrame'>\n",
      "RangeIndex: 119390 entries, 0 to 119389\n",
      "Data columns (total 32 columns):\n",
      " #   Column                          Non-Null Count   Dtype         \n",
      "---  ------                          --------------   -----         \n",
      " 0   hotel                           119390 non-null  object        \n",
      " 1   is_canceled                     119390 non-null  bool          \n",
      " 2   lead_time                       119390 non-null  int64         \n",
      " 3   arrival_date_year               119390 non-null  object        \n",
      " 4   arrival_date_week_number        119390 non-null  int64         \n",
      " 5   stays_in_weekend_nights         119390 non-null  int64         \n",
      " 6   stays_in_week_nights            119390 non-null  int64         \n",
      " 7   adults                          119390 non-null  int64         \n",
      " 8   children                        119390 non-null  float64       \n",
      " 9   babies                          119390 non-null  int64         \n",
      " 10  meal                            119390 non-null  object        \n",
      " 11  country                         119390 non-null  object        \n",
      " 12  market_segment                  119390 non-null  object        \n",
      " 13  distribution_channel            119390 non-null  object        \n",
      " 14  is_repeated_guest               119390 non-null  int64         \n",
      " 15  previous_cancellations          119390 non-null  int64         \n",
      " 16  previous_bookings_not_canceled  119390 non-null  int64         \n",
      " 17  reserved_room_type              119390 non-null  object        \n",
      " 18  assigned_room_type              119390 non-null  object        \n",
      " 19  booking_changes                 119390 non-null  int64         \n",
      " 20  deposit_type                    119390 non-null  object        \n",
      " 21  agent                           119390 non-null  float64       \n",
      " 22  company                         119390 non-null  float64       \n",
      " 23  days_in_waiting_list            119390 non-null  int64         \n",
      " 24  customer_type                   119390 non-null  object        \n",
      " 25  adr                             119390 non-null  float64       \n",
      " 26  required_car_parking_spaces     119390 non-null  int64         \n",
      " 27  total_of_special_requests       119390 non-null  int64         \n",
      " 28  reservation_status              119390 non-null  object        \n",
      " 29  reservation_status_date         119390 non-null  datetime64[ns]\n",
      " 30  arrival_date                    119390 non-null  object        \n",
      " 31  direct_booking                  119390 non-null  object        \n",
      "dtypes: bool(1), datetime64[ns](1), float64(4), int64(13), object(13)\n",
      "memory usage: 28.4+ MB\n"
     ]
    }
   ],
   "source": [
    "hotel.info()"
   ]
  },
  {
   "cell_type": "code",
   "execution_count": 25,
   "metadata": {},
   "outputs": [
    {
     "data": {
      "text/plain": [
       "0    111974\n",
       "1      7383\n",
       "2        28\n",
       "3         3\n",
       "8         2\n",
       "Name: required_car_parking_spaces, dtype: int64"
      ]
     },
     "execution_count": 25,
     "metadata": {},
     "output_type": "execute_result"
    }
   ],
   "source": [
    "hotel.required_car_parking_spaces.value_counts()"
   ]
  },
  {
   "cell_type": "code",
   "execution_count": 26,
   "metadata": {},
   "outputs": [
    {
     "data": {
      "text/plain": [
       "Text(0.5, 0.98, 'The count of required car parking spaces')"
      ]
     },
     "execution_count": 26,
     "metadata": {},
     "output_type": "execute_result"
    },
    {
     "data": {
      "image/png": "[encoded data removed]",
      "text/plain": [
       "<Figure size 457.25x360 with 1 Axes>"
      ]
     },
     "metadata": {
      "needs_background": "light"
     },
     "output_type": "display_data"
    }
   ],
   "source": [
    "sns.catplot(data=hotel ,x='required_car_parking_spaces',kind='count',hue='hotel')\n",
    "plt.suptitle('The count of required car parking spaces')\n"
   ]
  },
  {
   "cell_type": "code",
   "execution_count": 27,
   "metadata": {},
   "outputs": [
    {
     "data": {
      "text/plain": [
       "Text(0.5, 1.1, 'percent of canceled babies arrivals per hotel')"
      ]
     },
     "execution_count": 27,
     "metadata": {},
     "output_type": "execute_result"
    },
    {
     "data": {
      "image/png": "[encoded data removed]",
      "text/plain": [
       "<Figure size 457.25x360 with 1 Axes>"
      ]
     },
     "metadata": {
      "needs_background": "light"
     },
     "output_type": "display_data"
    }
   ],
   "source": [
    "sns.catplot(data=hotel ,x='babies',y='is_canceled', kind='point',hue='hotel')\n",
    "plt.suptitle('percent of canceled babies arrivals per hotel', y=1.1)"
   ]
  },
  {
   "cell_type": "code",
   "execution_count": 28,
   "metadata": {},
   "outputs": [
    {
     "data": {
      "text/plain": [
       "Text(0.5, 1.1, 'percent of canceled children arrivals per hotel')"
      ]
     },
     "execution_count": 28,
     "metadata": {},
     "output_type": "execute_result"
    },
    {
     "data": {
      "image/png": "[encoded data removed]",
      "text/plain": [
       "<Figure size 457.25x360 with 1 Axes>"
      ]
     },
     "metadata": {
      "needs_background": "light"
     },
     "output_type": "display_data"
    }
   ],
   "source": [
    "sns.catplot(data=hotel ,x='children',y='is_canceled', kind='point',hue='hotel')\n",
    "plt.suptitle('percent of canceled children arrivals per hotel', y=1.1)"
   ]
  },
  {
   "cell_type": "code",
   "execution_count": 29,
   "metadata": {},
   "outputs": [
    {
     "data": {
      "text/plain": [
       "Text(0.5, 0.98, 'The count of arrivals per year')"
      ]
     },
     "execution_count": 29,
     "metadata": {},
     "output_type": "execute_result"
    },
    {
     "data": {
      "image/png": "[encoded data removed]",
      "text/plain": [
       "<Figure size 457.25x360 with 1 Axes>"
      ]
     },
     "metadata": {
      "needs_background": "light"
     },
     "output_type": "display_data"
    }
   ],
   "source": [
    "sns.catplot(data=hotel, x='arrival_date_year',kind='count',hue='hotel')\n",
    "plt.suptitle('The count of arrivals per year')"
   ]
  },
  {
   "cell_type": "code",
   "execution_count": 30,
   "metadata": {},
   "outputs": [
    {
     "data": {
      "text/plain": [
       "{0: 6345,\n",
       " 1: 3460,\n",
       " 2: 2069,\n",
       " 3: 1816,\n",
       " 4: 1715,\n",
       " 5: 1565,\n",
       " 6: 1445,\n",
       " 7: 1331,\n",
       " 8: 1138,\n",
       " 12: 1079,\n",
       " 11: 1055,\n",
       " 9: 992,\n",
       " 10: 976,\n",
       " 14: 965,\n",
       " 16: 942,\n",
       " 17: 881,\n",
       " 15: 839,\n",
       " 19: 839,\n",
       " 34: 828,\n",
       " 18: 826,\n",
       " 13: 821,\n",
       " 28: 820,\n",
       " 20: 750,\n",
       " 40: 722,\n",
       " 29: 712,\n",
       " 22: 707,\n",
       " 32: 690,\n",
       " 31: 685,\n",
       " 21: 678,\n",
       " 56: 676,\n",
       " 39: 673,\n",
       " 37: 673,\n",
       " 26: 671,\n",
       " 24: 665,\n",
       " 36: 663,\n",
       " 30: 659,\n",
       " 35: 655,\n",
       " 25: 653,\n",
       " 27: 649,\n",
       " 33: 643,\n",
       " 23: 643,\n",
       " 44: 633,\n",
       " 41: 607,\n",
       " 55: 575,\n",
       " 38: 575,\n",
       " 47: 568,\n",
       " 68: 564,\n",
       " 69: 558,\n",
       " 45: 537,\n",
       " 72: 531,\n",
       " 53: 530,\n",
       " 50: 527,\n",
       " 59: 520,\n",
       " 74: 519,\n",
       " 61: 513,\n",
       " 48: 506,\n",
       " 46: 495,\n",
       " 49: 479,\n",
       " 43: 479,\n",
       " 54: 472,\n",
       " 66: 466,\n",
       " 42: 464,\n",
       " 86: 461,\n",
       " 102: 458,\n",
       " 57: 457,\n",
       " 87: 450,\n",
       " 88: 448,\n",
       " 65: 448,\n",
       " 92: 441,\n",
       " 80: 440,\n",
       " 67: 439,\n",
       " 60: 436,\n",
       " 52: 435,\n",
       " 99: 430,\n",
       " 75: 425,\n",
       " 64: 423,\n",
       " 71: 423,\n",
       " 112: 423,\n",
       " 98: 420,\n",
       " 115: 420,\n",
       " 62: 414,\n",
       " 104: 413,\n",
       " 105: 412,\n",
       " 73: 402,\n",
       " 58: 401,\n",
       " 63: 398,\n",
       " 116: 395,\n",
       " 82: 393,\n",
       " 95: 392,\n",
       " 134: 384,\n",
       " 78: 384,\n",
       " 70: 384,\n",
       " 83: 378,\n",
       " 103: 377,\n",
       " 113: 373,\n",
       " 96: 368,\n",
       " 51: 366,\n",
       " 151: 365,\n",
       " 81: 360,\n",
       " 164: 358,\n",
       " 79: 357,\n",
       " 77: 357,\n",
       " 97: 356,\n",
       " 76: 351,\n",
       " 93: 350,\n",
       " 101: 350,\n",
       " 100: 347,\n",
       " 84: 345,\n",
       " 85: 344,\n",
       " 169: 337,\n",
       " 140: 336,\n",
       " 91: 334,\n",
       " 111: 333,\n",
       " 94: 333,\n",
       " 178: 325,\n",
       " 158: 324,\n",
       " 168: 322,\n",
       " 150: 322,\n",
       " 277: 318,\n",
       " 89: 315,\n",
       " 152: 312,\n",
       " 124: 308,\n",
       " 156: 306,\n",
       " 128: 304,\n",
       " 162: 303,\n",
       " 213: 303,\n",
       " 143: 301,\n",
       " 131: 300,\n",
       " 130: 297,\n",
       " 129: 297,\n",
       " 166: 297,\n",
       " 117: 297,\n",
       " 109: 297,\n",
       " 110: 297,\n",
       " 181: 295,\n",
       " 159: 295,\n",
       " 183: 293,\n",
       " 90: 293,\n",
       " 192: 293,\n",
       " 118: 292,\n",
       " 122: 288,\n",
       " 137: 286,\n",
       " 135: 286,\n",
       " 175: 280,\n",
       " 148: 278,\n",
       " 123: 276,\n",
       " 141: 274,\n",
       " 180: 270,\n",
       " 108: 267,\n",
       " 133: 265,\n",
       " 107: 265,\n",
       " 121: 264,\n",
       " 174: 263,\n",
       " 142: 259,\n",
       " 132: 259,\n",
       " 138: 257,\n",
       " 155: 256,\n",
       " 106: 255,\n",
       " 120: 252,\n",
       " 177: 252,\n",
       " 188: 251,\n",
       " 172: 251,\n",
       " 126: 250,\n",
       " 219: 250,\n",
       " 198: 250,\n",
       " 125: 247,\n",
       " 186: 247,\n",
       " 211: 246,\n",
       " 157: 245,\n",
       " 114: 245,\n",
       " 119: 242,\n",
       " 146: 242,\n",
       " 145: 242,\n",
       " 165: 242,\n",
       " 153: 242,\n",
       " 136: 238,\n",
       " 179: 232,\n",
       " 127: 231,\n",
       " 265: 230,\n",
       " 161: 230,\n",
       " 221: 223,\n",
       " 139: 221,\n",
       " 144: 219,\n",
       " 189: 219,\n",
       " 147: 218,\n",
       " 163: 217,\n",
       " 173: 215,\n",
       " 207: 212,\n",
       " 199: 212,\n",
       " 171: 210,\n",
       " 185: 210,\n",
       " 215: 209,\n",
       " 160: 207,\n",
       " 247: 206,\n",
       " 210: 204,\n",
       " 184: 202,\n",
       " 245: 200,\n",
       " 316: 200,\n",
       " 212: 198,\n",
       " 292: 196,\n",
       " 203: 195,\n",
       " 149: 195,\n",
       " 208: 191,\n",
       " 167: 191,\n",
       " 301: 190,\n",
       " 226: 190,\n",
       " 193: 189,\n",
       " 286: 189,\n",
       " 195: 187,\n",
       " 304: 181,\n",
       " 386: 180,\n",
       " 154: 179,\n",
       " 170: 175,\n",
       " 197: 174,\n",
       " 191: 174,\n",
       " 259: 170,\n",
       " 305: 168,\n",
       " 336: 167,\n",
       " 279: 165,\n",
       " 275: 164,\n",
       " 256: 164,\n",
       " 364: 163,\n",
       " 190: 160,\n",
       " 176: 160,\n",
       " 273: 160,\n",
       " 204: 159,\n",
       " 214: 158,\n",
       " 182: 155,\n",
       " 239: 154,\n",
       " 205: 154,\n",
       " 222: 151,\n",
       " 236: 150,\n",
       " 244: 149,\n",
       " 233: 149,\n",
       " 220: 149,\n",
       " 276: 149,\n",
       " 323: 148,\n",
       " 302: 147,\n",
       " 206: 146,\n",
       " 201: 145,\n",
       " 240: 145,\n",
       " 225: 145,\n",
       " 342: 145,\n",
       " 258: 145,\n",
       " 272: 143,\n",
       " 200: 143,\n",
       " 196: 140,\n",
       " 223: 139,\n",
       " 278: 138,\n",
       " 287: 136,\n",
       " 257: 132,\n",
       " 315: 132,\n",
       " 187: 131,\n",
       " 405: 129,\n",
       " 224: 128,\n",
       " 251: 126,\n",
       " 320: 126,\n",
       " 238: 126,\n",
       " 262: 126,\n",
       " 274: 125,\n",
       " 267: 124,\n",
       " 283: 123,\n",
       " 281: 122,\n",
       " 194: 120,\n",
       " 241: 117,\n",
       " 270: 115,\n",
       " 335: 115,\n",
       " 237: 112,\n",
       " 202: 110,\n",
       " 288: 110,\n",
       " 290: 109,\n",
       " 295: 108,\n",
       " 230: 108,\n",
       " 423: 108,\n",
       " 346: 106,\n",
       " 253: 105,\n",
       " 468: 105,\n",
       " 218: 105,\n",
       " 414: 105,\n",
       " 261: 105,\n",
       " 297: 104,\n",
       " 309: 104,\n",
       " 243: 104,\n",
       " 263: 102,\n",
       " 351: 102,\n",
       " 217: 101,\n",
       " 330: 101,\n",
       " 322: 100,\n",
       " 209: 99,\n",
       " 260: 98,\n",
       " 350: 98,\n",
       " 317: 97,\n",
       " 229: 96,\n",
       " 300: 93,\n",
       " 231: 92,\n",
       " 337: 92,\n",
       " 289: 92,\n",
       " 227: 91,\n",
       " 271: 91,\n",
       " 250: 91,\n",
       " 254: 91,\n",
       " 377: 89,\n",
       " 314: 88,\n",
       " 327: 88,\n",
       " 457: 88,\n",
       " 216: 87,\n",
       " 312: 86,\n",
       " 246: 86,\n",
       " 396: 85,\n",
       " 393: 85,\n",
       " 232: 83,\n",
       " 269: 83,\n",
       " 248: 82,\n",
       " 311: 81,\n",
       " 307: 81,\n",
       " 313: 81,\n",
       " 282: 79,\n",
       " 280: 79,\n",
       " 268: 78,\n",
       " 235: 77,\n",
       " 228: 76,\n",
       " 266: 76,\n",
       " 294: 75,\n",
       " 252: 74,\n",
       " 328: 73,\n",
       " 358: 73,\n",
       " 339: 72,\n",
       " 383: 72,\n",
       " 234: 69,\n",
       " 379: 68,\n",
       " 285: 68,\n",
       " 344: 67,\n",
       " 264: 66,\n",
       " 451: 66,\n",
       " 365: 65,\n",
       " 321: 64,\n",
       " 349: 62,\n",
       " 418: 60,\n",
       " 296: 60,\n",
       " 291: 60,\n",
       " 333: 59,\n",
       " 255: 59,\n",
       " 308: 58,\n",
       " 420: 57,\n",
       " 391: 55,\n",
       " 334: 54,\n",
       " 395: 54,\n",
       " 242: 53,\n",
       " 249: 53,\n",
       " 433: 52,\n",
       " 325: 51,\n",
       " 332: 50,\n",
       " 318: 49,\n",
       " 298: 49,\n",
       " 326: 47,\n",
       " 462: 46,\n",
       " 303: 45,\n",
       " 310: 45,\n",
       " 372: 44,\n",
       " 293: 44,\n",
       " 338: 44,\n",
       " 299: 44,\n",
       " 359: 44,\n",
       " 341: 42,\n",
       " 368: 40,\n",
       " 437: 40,\n",
       " 444: 40,\n",
       " 355: 40,\n",
       " 443: 37,\n",
       " 343: 36,\n",
       " 348: 35,\n",
       " 319: 35,\n",
       " 329: 35,\n",
       " 353: 35,\n",
       " 306: 34,\n",
       " 479: 33,\n",
       " 398: 33,\n",
       " 454: 33,\n",
       " 419: 32,\n",
       " 412: 32,\n",
       " 426: 32,\n",
       " 440: 32,\n",
       " 447: 32,\n",
       " 461: 32,\n",
       " 475: 32,\n",
       " 284: 32,\n",
       " 356: 31,\n",
       " 465: 31,\n",
       " 352: 31,\n",
       " 626: 30,\n",
       " 605: 30,\n",
       " 407: 29,\n",
       " 464: 29,\n",
       " 373: 29,\n",
       " 422: 29,\n",
       " 385: 29,\n",
       " 363: 28,\n",
       " 434: 27,\n",
       " 360: 27,\n",
       " 518: 26,\n",
       " 504: 26,\n",
       " 476: 26,\n",
       " 448: 26,\n",
       " 367: 25,\n",
       " 409: 25,\n",
       " 384: 25,\n",
       " 411: 24,\n",
       " 542: 23,\n",
       " 374: 21,\n",
       " 324: 20,\n",
       " 340: 20,\n",
       " 388: 20,\n",
       " 378: 19,\n",
       " 357: 18,\n",
       " 531: 17,\n",
       " 524: 17,\n",
       " 538: 17,\n",
       " 545: 17,\n",
       " 517: 17,\n",
       " 566: 17,\n",
       " 552: 17,\n",
       " 559: 17,\n",
       " 496: 17,\n",
       " 573: 17,\n",
       " 580: 17,\n",
       " 587: 17,\n",
       " 594: 17,\n",
       " 601: 17,\n",
       " 608: 17,\n",
       " 615: 17,\n",
       " 622: 17,\n",
       " 629: 17,\n",
       " 503: 17,\n",
       " 510: 17,\n",
       " 489: 17,\n",
       " 482: 17,\n",
       " 397: 17,\n",
       " 331: 16,\n",
       " 394: 15,\n",
       " 429: 15,\n",
       " 345: 14,\n",
       " 478: 13,\n",
       " 347: 12,\n",
       " 408: 11,\n",
       " 450: 11,\n",
       " 493: 10,\n",
       " 467: 10,\n",
       " 361: 10,\n",
       " 521: 10,\n",
       " 507: 10,\n",
       " 410: 10,\n",
       " 490: 9,\n",
       " 354: 9,\n",
       " 471: 6,\n",
       " 406: 6,\n",
       " 381: 5,\n",
       " 390: 4,\n",
       " 460: 3,\n",
       " 376: 3,\n",
       " 445: 3,\n",
       " 389: 3,\n",
       " 366: 3,\n",
       " 382: 2,\n",
       " 403: 2,\n",
       " 362: 2,\n",
       " 399: 2,\n",
       " 375: 2,\n",
       " 380: 1,\n",
       " 458: 1,\n",
       " 737: 1,\n",
       " 709: 1,\n",
       " 435: 1,\n",
       " 387: 1,\n",
       " 424: 1,\n",
       " 400: 1,\n",
       " 370: 1,\n",
       " 532: 1,\n",
       " 371: 1,\n",
       " 463: 1}"
      ]
     },
     "execution_count": 30,
     "metadata": {},
     "output_type": "execute_result"
    }
   ],
   "source": [
    "dict_time=hotel.lead_time.value_counts().to_dict()\n",
    "dict_time\n"
   ]
  },
  {
   "cell_type": "code",
   "execution_count": 31,
   "metadata": {},
   "outputs": [],
   "source": [
    "p = figure(sizing_mode=\"stretch_width\", max_width=500, height=250)\n",
    "#show(p)\n",
    "p.line(x=hotel['previous_cancellations'], y=hotel['stays_in_week_nights'])\n",
    "show(p)"
   ]
  },
  {
   "cell_type": "code",
   "execution_count": 32,
   "metadata": {},
   "outputs": [
    {
     "data": {
      "text/plain": [
       "False    75166\n",
       "True     44224\n",
       "Name: is_canceled, dtype: int64"
      ]
     },
     "execution_count": 32,
     "metadata": {},
     "output_type": "execute_result"
    }
   ],
   "source": [
    "hotel['is_canceled'].value_counts()"
   ]
  },
  {
   "cell_type": "code",
   "execution_count": 33,
   "metadata": {},
   "outputs": [
    {
     "data": {
      "text/plain": [
       "Index(['hotel', 'is_canceled', 'lead_time', 'arrival_date_year',\n",
       "       'arrival_date_week_number', 'stays_in_weekend_nights',\n",
       "       'stays_in_week_nights', 'adults', 'children', 'babies', 'meal',\n",
       "       'country', 'market_segment', 'distribution_channel',\n",
       "       'is_repeated_guest', 'previous_cancellations',\n",
       "       'previous_bookings_not_canceled', 'reserved_room_type',\n",
       "       'assigned_room_type', 'booking_changes', 'deposit_type', 'agent',\n",
       "       'company', 'days_in_waiting_list', 'customer_type', 'adr',\n",
       "       'required_car_parking_spaces', 'total_of_special_requests',\n",
       "       'reservation_status', 'reservation_status_date', 'arrival_date',\n",
       "       'direct_booking'],\n",
       "      dtype='object')"
      ]
     },
     "execution_count": 33,
     "metadata": {},
     "output_type": "execute_result"
    }
   ],
   "source": [
    "hotel.columns\n"
   ]
  },
  {
   "cell_type": "code",
   "execution_count": 34,
   "metadata": {},
   "outputs": [
    {
     "data": {
      "text/html": [
       "<div>\n",
       "<style scoped>\n",
       "    .dataframe tbody tr th:only-of-type {\n",
       "        vertical-align: middle;\n",
       "    }\n",
       "\n",
       "    .dataframe tbody tr th {\n",
       "        vertical-align: top;\n",
       "    }\n",
       "\n",
       "    .dataframe thead th {\n",
       "        text-align: right;\n",
       "    }\n",
       "</style>\n",
       "<table border=\"1\" class=\"dataframe\">\n",
       "  <thead>\n",
       "    <tr style=\"text-align: right;\">\n",
       "      <th></th>\n",
       "      <th>hotel</th>\n",
       "      <th>is_canceled</th>\n",
       "      <th>lead_time</th>\n",
       "      <th>arrival_date_year</th>\n",
       "      <th>arrival_date_week_number</th>\n",
       "      <th>stays_in_weekend_nights</th>\n",
       "      <th>stays_in_week_nights</th>\n",
       "      <th>adults</th>\n",
       "      <th>children</th>\n",
       "      <th>babies</th>\n",
       "      <th>...</th>\n",
       "      <th>company</th>\n",
       "      <th>days_in_waiting_list</th>\n",
       "      <th>customer_type</th>\n",
       "      <th>adr</th>\n",
       "      <th>required_car_parking_spaces</th>\n",
       "      <th>total_of_special_requests</th>\n",
       "      <th>reservation_status</th>\n",
       "      <th>reservation_status_date</th>\n",
       "      <th>arrival_date</th>\n",
       "      <th>direct_booking</th>\n",
       "    </tr>\n",
       "  </thead>\n",
       "  <tbody>\n",
       "    <tr>\n",
       "      <th>0</th>\n",
       "      <td>Resort Hotel</td>\n",
       "      <td>False</td>\n",
       "      <td>342</td>\n",
       "      <td>2015</td>\n",
       "      <td>27</td>\n",
       "      <td>0</td>\n",
       "      <td>0</td>\n",
       "      <td>2</td>\n",
       "      <td>0.0</td>\n",
       "      <td>0</td>\n",
       "      <td>...</td>\n",
       "      <td>0.0</td>\n",
       "      <td>0</td>\n",
       "      <td>Transient</td>\n",
       "      <td>0.0</td>\n",
       "      <td>0</td>\n",
       "      <td>0</td>\n",
       "      <td>Check-Out</td>\n",
       "      <td>2015-07-01</td>\n",
       "      <td>1 July 2015</td>\n",
       "      <td>yes</td>\n",
       "    </tr>\n",
       "    <tr>\n",
       "      <th>1</th>\n",
       "      <td>Resort Hotel</td>\n",
       "      <td>False</td>\n",
       "      <td>737</td>\n",
       "      <td>2015</td>\n",
       "      <td>27</td>\n",
       "      <td>0</td>\n",
       "      <td>0</td>\n",
       "      <td>2</td>\n",
       "      <td>0.0</td>\n",
       "      <td>0</td>\n",
       "      <td>...</td>\n",
       "      <td>0.0</td>\n",
       "      <td>0</td>\n",
       "      <td>Transient</td>\n",
       "      <td>0.0</td>\n",
       "      <td>0</td>\n",
       "      <td>0</td>\n",
       "      <td>Check-Out</td>\n",
       "      <td>2015-07-01</td>\n",
       "      <td>1 July 2015</td>\n",
       "      <td>yes</td>\n",
       "    </tr>\n",
       "    <tr>\n",
       "      <th>2</th>\n",
       "      <td>Resort Hotel</td>\n",
       "      <td>False</td>\n",
       "      <td>7</td>\n",
       "      <td>2015</td>\n",
       "      <td>27</td>\n",
       "      <td>0</td>\n",
       "      <td>1</td>\n",
       "      <td>1</td>\n",
       "      <td>0.0</td>\n",
       "      <td>0</td>\n",
       "      <td>...</td>\n",
       "      <td>0.0</td>\n",
       "      <td>0</td>\n",
       "      <td>Transient</td>\n",
       "      <td>75.0</td>\n",
       "      <td>0</td>\n",
       "      <td>0</td>\n",
       "      <td>Check-Out</td>\n",
       "      <td>2015-07-02</td>\n",
       "      <td>1 July 2015</td>\n",
       "      <td>yes</td>\n",
       "    </tr>\n",
       "    <tr>\n",
       "      <th>3</th>\n",
       "      <td>Resort Hotel</td>\n",
       "      <td>False</td>\n",
       "      <td>13</td>\n",
       "      <td>2015</td>\n",
       "      <td>27</td>\n",
       "      <td>0</td>\n",
       "      <td>1</td>\n",
       "      <td>1</td>\n",
       "      <td>0.0</td>\n",
       "      <td>0</td>\n",
       "      <td>...</td>\n",
       "      <td>0.0</td>\n",
       "      <td>0</td>\n",
       "      <td>Transient</td>\n",
       "      <td>75.0</td>\n",
       "      <td>0</td>\n",
       "      <td>0</td>\n",
       "      <td>Check-Out</td>\n",
       "      <td>2015-07-02</td>\n",
       "      <td>1 July 2015</td>\n",
       "      <td>no</td>\n",
       "    </tr>\n",
       "    <tr>\n",
       "      <th>4</th>\n",
       "      <td>Resort Hotel</td>\n",
       "      <td>False</td>\n",
       "      <td>14</td>\n",
       "      <td>2015</td>\n",
       "      <td>27</td>\n",
       "      <td>0</td>\n",
       "      <td>2</td>\n",
       "      <td>2</td>\n",
       "      <td>0.0</td>\n",
       "      <td>0</td>\n",
       "      <td>...</td>\n",
       "      <td>0.0</td>\n",
       "      <td>0</td>\n",
       "      <td>Transient</td>\n",
       "      <td>98.0</td>\n",
       "      <td>0</td>\n",
       "      <td>1</td>\n",
       "      <td>Check-Out</td>\n",
       "      <td>2015-07-03</td>\n",
       "      <td>1 July 2015</td>\n",
       "      <td>no</td>\n",
       "    </tr>\n",
       "    <tr>\n",
       "      <th>5</th>\n",
       "      <td>Resort Hotel</td>\n",
       "      <td>False</td>\n",
       "      <td>14</td>\n",
       "      <td>2015</td>\n",
       "      <td>27</td>\n",
       "      <td>0</td>\n",
       "      <td>2</td>\n",
       "      <td>2</td>\n",
       "      <td>0.0</td>\n",
       "      <td>0</td>\n",
       "      <td>...</td>\n",
       "      <td>0.0</td>\n",
       "      <td>0</td>\n",
       "      <td>Transient</td>\n",
       "      <td>98.0</td>\n",
       "      <td>0</td>\n",
       "      <td>1</td>\n",
       "      <td>Check-Out</td>\n",
       "      <td>2015-07-03</td>\n",
       "      <td>1 July 2015</td>\n",
       "      <td>no</td>\n",
       "    </tr>\n",
       "    <tr>\n",
       "      <th>6</th>\n",
       "      <td>Resort Hotel</td>\n",
       "      <td>False</td>\n",
       "      <td>0</td>\n",
       "      <td>2015</td>\n",
       "      <td>27</td>\n",
       "      <td>0</td>\n",
       "      <td>2</td>\n",
       "      <td>2</td>\n",
       "      <td>0.0</td>\n",
       "      <td>0</td>\n",
       "      <td>...</td>\n",
       "      <td>0.0</td>\n",
       "      <td>0</td>\n",
       "      <td>Transient</td>\n",
       "      <td>107.0</td>\n",
       "      <td>0</td>\n",
       "      <td>0</td>\n",
       "      <td>Check-Out</td>\n",
       "      <td>2015-07-03</td>\n",
       "      <td>1 July 2015</td>\n",
       "      <td>yes</td>\n",
       "    </tr>\n",
       "    <tr>\n",
       "      <th>7</th>\n",
       "      <td>Resort Hotel</td>\n",
       "      <td>False</td>\n",
       "      <td>9</td>\n",
       "      <td>2015</td>\n",
       "      <td>27</td>\n",
       "      <td>0</td>\n",
       "      <td>2</td>\n",
       "      <td>2</td>\n",
       "      <td>0.0</td>\n",
       "      <td>0</td>\n",
       "      <td>...</td>\n",
       "      <td>0.0</td>\n",
       "      <td>0</td>\n",
       "      <td>Transient</td>\n",
       "      <td>103.0</td>\n",
       "      <td>0</td>\n",
       "      <td>1</td>\n",
       "      <td>Check-Out</td>\n",
       "      <td>2015-07-03</td>\n",
       "      <td>1 July 2015</td>\n",
       "      <td>no</td>\n",
       "    </tr>\n",
       "    <tr>\n",
       "      <th>8</th>\n",
       "      <td>Resort Hotel</td>\n",
       "      <td>True</td>\n",
       "      <td>85</td>\n",
       "      <td>2015</td>\n",
       "      <td>27</td>\n",
       "      <td>0</td>\n",
       "      <td>3</td>\n",
       "      <td>2</td>\n",
       "      <td>0.0</td>\n",
       "      <td>0</td>\n",
       "      <td>...</td>\n",
       "      <td>0.0</td>\n",
       "      <td>0</td>\n",
       "      <td>Transient</td>\n",
       "      <td>82.0</td>\n",
       "      <td>0</td>\n",
       "      <td>1</td>\n",
       "      <td>Canceled</td>\n",
       "      <td>2015-05-06</td>\n",
       "      <td>1 July 2015</td>\n",
       "      <td>no</td>\n",
       "    </tr>\n",
       "    <tr>\n",
       "      <th>9</th>\n",
       "      <td>Resort Hotel</td>\n",
       "      <td>True</td>\n",
       "      <td>75</td>\n",
       "      <td>2015</td>\n",
       "      <td>27</td>\n",
       "      <td>0</td>\n",
       "      <td>3</td>\n",
       "      <td>2</td>\n",
       "      <td>0.0</td>\n",
       "      <td>0</td>\n",
       "      <td>...</td>\n",
       "      <td>0.0</td>\n",
       "      <td>0</td>\n",
       "      <td>Transient</td>\n",
       "      <td>105.5</td>\n",
       "      <td>0</td>\n",
       "      <td>0</td>\n",
       "      <td>Canceled</td>\n",
       "      <td>2015-04-22</td>\n",
       "      <td>1 July 2015</td>\n",
       "      <td>no</td>\n",
       "    </tr>\n",
       "  </tbody>\n",
       "</table>\n",
       "<p>10 rows × 32 columns</p>\n",
       "</div>"
      ],
      "text/plain": [
       "          hotel  is_canceled  lead_time arrival_date_year  \\\n",
       "0  Resort Hotel        False        342              2015   \n",
       "1  Resort Hotel        False        737              2015   \n",
       "2  Resort Hotel        False          7              2015   \n",
       "3  Resort Hotel        False         13              2015   \n",
       "4  Resort Hotel        False         14              2015   \n",
       "5  Resort Hotel        False         14              2015   \n",
       "6  Resort Hotel        False          0              2015   \n",
       "7  Resort Hotel        False          9              2015   \n",
       "8  Resort Hotel         True         85              2015   \n",
       "9  Resort Hotel         True         75              2015   \n",
       "\n",
       "   arrival_date_week_number  stays_in_weekend_nights  stays_in_week_nights  \\\n",
       "0                        27                        0                     0   \n",
       "1                        27                        0                     0   \n",
       "2                        27                        0                     1   \n",
       "3                        27                        0                     1   \n",
       "4                        27                        0                     2   \n",
       "5                        27                        0                     2   \n",
       "6                        27                        0                     2   \n",
       "7                        27                        0                     2   \n",
       "8                        27                        0                     3   \n",
       "9                        27                        0                     3   \n",
       "\n",
       "   adults  children  babies  ... company days_in_waiting_list customer_type  \\\n",
       "0       2       0.0       0  ...     0.0                    0     Transient   \n",
       "1       2       0.0       0  ...     0.0                    0     Transient   \n",
       "2       1       0.0       0  ...     0.0                    0     Transient   \n",
       "3       1       0.0       0  ...     0.0                    0     Transient   \n",
       "4       2       0.0       0  ...     0.0                    0     Transient   \n",
       "5       2       0.0       0  ...     0.0                    0     Transient   \n",
       "6       2       0.0       0  ...     0.0                    0     Transient   \n",
       "7       2       0.0       0  ...     0.0                    0     Transient   \n",
       "8       2       0.0       0  ...     0.0                    0     Transient   \n",
       "9       2       0.0       0  ...     0.0                    0     Transient   \n",
       "\n",
       "     adr  required_car_parking_spaces  total_of_special_requests  \\\n",
       "0    0.0                            0                          0   \n",
       "1    0.0                            0                          0   \n",
       "2   75.0                            0                          0   \n",
       "3   75.0                            0                          0   \n",
       "4   98.0                            0                          1   \n",
       "5   98.0                            0                          1   \n",
       "6  107.0                            0                          0   \n",
       "7  103.0                            0                          1   \n",
       "8   82.0                            0                          1   \n",
       "9  105.5                            0                          0   \n",
       "\n",
       "   reservation_status reservation_status_date arrival_date  direct_booking  \n",
       "0           Check-Out              2015-07-01  1 July 2015             yes  \n",
       "1           Check-Out              2015-07-01  1 July 2015             yes  \n",
       "2           Check-Out              2015-07-02  1 July 2015             yes  \n",
       "3           Check-Out              2015-07-02  1 July 2015              no  \n",
       "4           Check-Out              2015-07-03  1 July 2015              no  \n",
       "5           Check-Out              2015-07-03  1 July 2015              no  \n",
       "6           Check-Out              2015-07-03  1 July 2015             yes  \n",
       "7           Check-Out              2015-07-03  1 July 2015              no  \n",
       "8            Canceled              2015-05-06  1 July 2015              no  \n",
       "9            Canceled              2015-04-22  1 July 2015              no  \n",
       "\n",
       "[10 rows x 32 columns]"
      ]
     },
     "execution_count": 34,
     "metadata": {},
     "output_type": "execute_result"
    }
   ],
   "source": [
    "hotel.head(10)"
   ]
  },
  {
   "cell_type": "code",
   "execution_count": 36,
   "metadata": {},
   "outputs": [
    {
     "name": "stdout",
     "output_type": "stream",
     "text": [
      "<class 'pandas.core.frame.DataFrame'>\n",
      "RangeIndex: 119390 entries, 0 to 119389\n",
      "Data columns (total 32 columns):\n",
      " #   Column                          Non-Null Count   Dtype         \n",
      "---  ------                          --------------   -----         \n",
      " 0   hotel                           119390 non-null  object        \n",
      " 1   is_canceled                     119390 non-null  bool          \n",
      " 2   lead_time                       119390 non-null  int64         \n",
      " 3   arrival_date_year               119390 non-null  object        \n",
      " 4   arrival_date_week_number        119390 non-null  int64         \n",
      " 5   stays_in_weekend_nights         119390 non-null  int64         \n",
      " 6   stays_in_week_nights            119390 non-null  int64         \n",
      " 7   adults                          119390 non-null  int64         \n",
      " 8   children                        119390 non-null  float64       \n",
      " 9   babies                          119390 non-null  int64         \n",
      " 10  meal                            119390 non-null  object        \n",
      " 11  country                         119390 non-null  object        \n",
      " 12  market_segment                  119390 non-null  object        \n",
      " 13  distribution_channel            119390 non-null  object        \n",
      " 14  is_repeated_guest               119390 non-null  int64         \n",
      " 15  previous_cancellations          119390 non-null  int64         \n",
      " 16  previous_bookings_not_canceled  119390 non-null  int64         \n",
      " 17  reserved_room_type              119390 non-null  object        \n",
      " 18  assigned_room_type              119390 non-null  object        \n",
      " 19  booking_changes                 119390 non-null  int64         \n",
      " 20  deposit_type                    119390 non-null  object        \n",
      " 21  agent                           119390 non-null  float64       \n",
      " 22  company                         119390 non-null  float64       \n",
      " 23  days_in_waiting_list            119390 non-null  int64         \n",
      " 24  customer_type                   119390 non-null  object        \n",
      " 25  adr                             119390 non-null  float64       \n",
      " 26  required_car_parking_spaces     119390 non-null  int64         \n",
      " 27  total_of_special_requests       119390 non-null  int64         \n",
      " 28  reservation_status              119390 non-null  object        \n",
      " 29  reservation_status_date         119390 non-null  datetime64[ns]\n",
      " 30  arrival_date                    119390 non-null  object        \n",
      " 31  direct_booking                  119390 non-null  object        \n",
      "dtypes: bool(1), datetime64[ns](1), float64(4), int64(13), object(13)\n",
      "memory usage: 28.4+ MB\n"
     ]
    }
   ],
   "source": [
    "hotel.info()"
   ]
  },
  {
   "cell_type": "code",
   "execution_count": 37,
   "metadata": {},
   "outputs": [
    {
     "data": {
      "text/plain": [
       "0         Resort Hotel\n",
       "1         Resort Hotel\n",
       "2         Resort Hotel\n",
       "3         Resort Hotel\n",
       "4         Resort Hotel\n",
       "              ...     \n",
       "119385      City Hotel\n",
       "119386      City Hotel\n",
       "119387      City Hotel\n",
       "119388      City Hotel\n",
       "119389      City Hotel\n",
       "Name: hotel, Length: 119390, dtype: object"
      ]
     },
     "execution_count": 37,
     "metadata": {},
     "output_type": "execute_result"
    }
   ],
   "source": [
    "hotel.hotel"
   ]
  },
  {
   "cell_type": "code",
   "execution_count": 41,
   "metadata": {},
   "outputs": [
    {
     "data": {
      "text/plain": [
       "BB           92310\n",
       "HB           14463\n",
       "SC           10650\n",
       "Undefined     1169\n",
       "FB             798\n",
       "Name: meal, dtype: int64"
      ]
     },
     "execution_count": 41,
     "metadata": {},
     "output_type": "execute_result"
    }
   ],
   "source": [
    "hotel.meal.value_counts()"
   ]
  },
  {
   "cell_type": "code",
   "execution_count": null,
   "metadata": {},
   "outputs": [],
   "source": []
  }
 ],
 "metadata": {
  "kernelspec": {
   "display_name": "base",
   "language": "python",
   "name": "python3"
  },
  "language_info": {
   "codemirror_mode": {
    "name": "ipython",
    "version": 3
   },
   "file_extension": ".py",
   "mimetype": "text/x-python",
   "name": "python",
   "nbconvert_exporter": "python",
   "pygments_lexer": "ipython3",
   "version": "3.9.12"
  },
  "orig_nbformat": 4,
  "vscode": {
   "interpreter": {
    "hash": "610a6f344c2137faf927ea819c63f6cee33a2c04455044b28099f39fe9722347"
   }
  }
 },
 "nbformat": 4,
 "nbformat_minor": 2
}
